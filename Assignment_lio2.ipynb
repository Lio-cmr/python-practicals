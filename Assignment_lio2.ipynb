{
 "cells": [
  {
   "cell_type": "markdown",
   "metadata": {},
   "source": [
    "# Init2Py-02 – Functions & Recursions"
   ]
  },
  {
   "cell_type": "markdown",
   "metadata": {},
   "source": [
    "1. Write a python script that asks the user for the values of x and y and uses these inputs to\n",
    "compute the numerical value of the expression"
   ]
  },
  {
   "cell_type": "code",
   "execution_count": 3,
   "metadata": {},
   "outputs": [
    {
     "name": "stdout",
     "output_type": "stream",
     "text": [
      "Entrer une valeur : 2\n",
      "Entrer une seconde valeur : 4\n",
      "-7.892620965825434\n"
     ]
    }
   ],
   "source": [
    "from math import *\n",
    "x=float(input(\"Entrer une valeur : \"))\n",
    "y= float(input(\"Entrer une seconde valeur : \"))\n",
    "if x>0 :\n",
    "    z= (sqrt(x**(2+y)))/((1/x)+2*sin(y))\n",
    "    print(z)\n",
    "else :\n",
    "    print(\"Pas de solutions\")"
   ]
  },
  {
   "cell_type": "markdown",
   "metadata": {},
   "source": [
    "2. Write a function that given two integers b and n (n is positive), calculates bn without using\n",
    "python’s power operator. Name this function ownpowerfn.py."
   ]
  },
  {
   "cell_type": "code",
   "execution_count": 5,
   "metadata": {},
   "outputs": [
    {
     "name": "stdout",
     "output_type": "stream",
     "text": [
      "8\n"
     ]
    }
   ],
   "source": [
    "def ownpowerfn(b,n) :\n",
    "    puissance=0\n",
    "    if n>0 :\n",
    "        for i in range (0,n):\n",
    "            puissance=b**n\n",
    "            i=i+1\n",
    "        print(puissance)  \n",
    "        \n",
    "ownpowerfn(2,3)"
   ]
  },
  {
   "cell_type": "markdown",
   "metadata": {},
   "source": [
    "If we do not specify that 𝑛 is a positive natural number, then all powers of 𝑏 to order less than or equal to zero for the result 𝑏𝑛 will automatically take the value zero."
   ]
  },
  {
   "cell_type": "markdown",
   "metadata": {},
   "source": [
    "3. Write functions that do the following:\n",
    "\n",
    "a) Takes two arguments, and computes their arithmetic and geometric means. Name\n",
    "these functions arithmetic_mean and geometric_mean respectively."
   ]
  },
  {
   "cell_type": "code",
   "execution_count": 8,
   "metadata": {},
   "outputs": [
    {
     "name": "stdout",
     "output_type": "stream",
     "text": [
      "3.5  est la moyenne arithmétique de  2 et 5\n",
      "3.1622776601683795  est la moyenne arithmétique de  2 et 5\n"
     ]
    }
   ],
   "source": [
    "def arithmetic_mean(a,b) :\n",
    "    moyAr=(a+b)/2\n",
    "    print(moyAr, \" est la moyenne arithmétique de \", a , \"et\", b)  \n",
    "    \n",
    "def geometric_mean(m,n) :\n",
    "    moyGeo=sqrt(m*n)\n",
    "    print(moyGeo, \" est la moyenne arithmétique de \", m , \"et\", n)  \n",
    "    \n",
    "arithmetic_mean(2,5)\n",
    "geometric_mean(2,5)\n"
   ]
  },
  {
   "cell_type": "markdown",
   "metadata": {},
   "source": [
    "b) Converts degree Celsius to Fahrenheit and vice versa. Name these two functions\n",
    "celcius_to_fahrenheit and fahrenheit_to_celcius respectively."
   ]
  },
  {
   "cell_type": "code",
   "execution_count": 11,
   "metadata": {},
   "outputs": [
    {
     "name": "stdout",
     "output_type": "stream",
     "text": [
      "60.8  est la conversion de  16  degrés Celsius en degrés Fahrenheit\n",
      "13.333333333333334  est la conversion de  56  degrés Fahrenheit en degrés Celsius\n"
     ]
    }
   ],
   "source": [
    "def celcius_to_fahrenheit (C) :\n",
    "    F=(C*(9/5))+32\n",
    "    print(F, \" est la conversion de \", C , \" degrés Celsius en degrés Fahrenheit\")  \n",
    "    \n",
    "def fahrenheit_to_celcius(F) :\n",
    "    C = (5/9)*(F - 32)\n",
    "    print(C, \" est la conversion de \", F , \" degrés Fahrenheit en degrés Celsius\")\n",
    "    \n",
    "    \n",
    "celcius_to_fahrenheit (16)\n",
    "fahrenheit_to_celcius(56)"
   ]
  },
  {
   "cell_type": "markdown",
   "metadata": {},
   "source": [
    "c) Converts angle in degrees to radians and vice versa. Name these two functions\n",
    "degrees_to_radians and radians_to_degrees respectively."
   ]
  },
  {
   "cell_type": "code",
   "execution_count": 12,
   "metadata": {},
   "outputs": [
    {
     "name": "stdout",
     "output_type": "stream",
     "text": [
      "2.792526803190927  est la conversion de  160  degrés en radians \n",
      "180.0  est la conversion de  3.141592653589793  radians en degrés \n"
     ]
    }
   ],
   "source": [
    "def degrees_to_radians (D) :\n",
    "    R=(D*pi)/180\n",
    "    print(R, \" est la conversion de \", D , \" degrés en radians \")  \n",
    "    \n",
    "def fahrenheit_to_celcius(R) :\n",
    "    D=(R*180)/pi\n",
    "    print(D, \" est la conversion de \", R , \" radians en degrés \")\n",
    "    \n",
    "degrees_to_radians (160)\n",
    "fahrenheit_to_celcius(pi)"
   ]
  },
  {
   "cell_type": "markdown",
   "metadata": {},
   "source": [
    "d) Computes the circumference and the area of a circle given the radius."
   ]
  },
  {
   "cell_type": "code",
   "execution_count": 13,
   "metadata": {},
   "outputs": [
    {
     "data": {
      "text/plain": [
       "(31.41592653589793, 78.53981633974483)"
      ]
     },
     "execution_count": 13,
     "metadata": {},
     "output_type": "execute_result"
    }
   ],
   "source": [
    "def circonferenceAireSphere(r):\n",
    "        circ = 2*pi*r\n",
    "        air = pi* r**2\n",
    "        return circ, air\n",
    "    \n",
    "circonferenceAireSphere(5)"
   ]
  },
  {
   "cell_type": "markdown",
   "metadata": {},
   "source": [
    "4. Write functions that do the following:\n",
    "\n",
    "a) Given two numbers, compute their average and geometrical mean and prints them.\n",
    "Now write a program that performs this process 10 times, taking as input the means\n",
    "computed in the previous step. Name this function avggeom."
   ]
  },
  {
   "cell_type": "code",
   "execution_count": 14,
   "metadata": {},
   "outputs": [
    {
     "data": {
      "text/plain": [
       "(2.5,\n",
       " 2.0,\n",
       " 2.5,\n",
       " 2.0,\n",
       " 2.5,\n",
       " 2.0,\n",
       " 2.5,\n",
       " 2.0,\n",
       " 2.5,\n",
       " 2.0,\n",
       " 2.5,\n",
       " 2.0,\n",
       " 2.5,\n",
       " 2.0,\n",
       " 2.5,\n",
       " 2.0,\n",
       " 2.5,\n",
       " 2.0,\n",
       " 2.5,\n",
       " 2.0)"
      ]
     },
     "execution_count": 14,
     "metadata": {},
     "output_type": "execute_result"
    }
   ],
   "source": [
    "def moy_And_moyGeo(x,y) :\n",
    "    moyenne=(x+y)/2\n",
    "    moyenneGeo=sqrt(x*y)\n",
    "    return moyenne , moyenneGeo\n",
    "def avggeom (x,y) :\n",
    "    return 10*moy_And_moyGeo(x,y)\n",
    "\n",
    "avggeom (1,4)"
   ]
  },
  {
   "cell_type": "markdown",
   "metadata": {},
   "source": [
    "b) Write a function that computes the distance between two points in the plane. Use\n",
    "it in another program that computes the perimeter and the area of a triangle, given\n",
    "three points in the plane. Name this function distancefn."
   ]
  },
  {
   "cell_type": "code",
   "execution_count": 16,
   "metadata": {},
   "outputs": [
    {
     "data": {
      "text/plain": [
       "(2.0, 0.5)"
      ]
     },
     "execution_count": 16,
     "metadata": {},
     "output_type": "execute_result"
    }
   ],
   "source": [
    "def dist(a,b,a1,b1) :\n",
    "    ditanceEuclidienne=sqrt((a1-a)**2+(b1-b)**2)\n",
    "    return ditanceEuclidienne\n",
    "def distancefn(a,a1,a2,b,b1,b2):\n",
    "        perimT = dist(a,a1,b,b1)+dist(a1,a2,b1,b2)+dist(a,a2,b,b2)\n",
    "        airT = (dist(a1,a2,b1,b2)*dist(a,a1,b,b1))/2\n",
    "        return perimT , airT\n",
    "    \n",
    "distancefn(2,1,-1,2,2,-1)"
   ]
  },
  {
   "cell_type": "markdown",
   "metadata": {},
   "source": [
    "6. For a fixed real number x and a natural number n, we can define recursively xn using the\n",
    "relations:"
   ]
  },
  {
   "cell_type": "code",
   "execution_count": 17,
   "metadata": {},
   "outputs": [
    {
     "data": {
      "text/plain": [
       "243"
      ]
     },
     "execution_count": 17,
     "metadata": {},
     "output_type": "execute_result"
    }
   ],
   "source": [
    "def puissance (y,n) :\n",
    "    if n == 0 :\n",
    "        return 1\n",
    "    if n%2 == 0 :\n",
    "        m=puissance(y,n/2)\n",
    "        return m*m\n",
    "    else :\n",
    "        return y*puissance(y,n-1)\n",
    "    \n",
    "puissance (3,5)"
   ]
  },
  {
   "cell_type": "markdown",
   "metadata": {},
   "source": [
    "7. Write code that implements the Fibonacci sequence. Test your program at 100."
   ]
  },
  {
   "cell_type": "code",
   "execution_count": 18,
   "metadata": {},
   "outputs": [
    {
     "data": {
      "text/plain": [
       "610.0000000000003"
      ]
     },
     "execution_count": 18,
     "metadata": {},
     "output_type": "execute_result"
    }
   ],
   "source": [
    "def Fibonacci(n):\n",
    "    return ((1+sqrt(5))**n-(1-sqrt(5))**n)/(2**n*sqrt(5))  \n",
    "\n",
    "Fibonacci(15)"
   ]
  },
  {
   "cell_type": "code",
   "execution_count": null,
   "metadata": {},
   "outputs": [],
   "source": []
  }
 ],
 "metadata": {
  "kernelspec": {
   "display_name": "Python 3",
   "language": "python",
   "name": "python3"
  },
  "language_info": {
   "codemirror_mode": {
    "name": "ipython",
    "version": 3
   },
   "file_extension": ".py",
   "mimetype": "text/x-python",
   "name": "python",
   "nbconvert_exporter": "python",
   "pygments_lexer": "ipython3",
   "version": "3.7.6"
  }
 },
 "nbformat": 4,
 "nbformat_minor": 4
}
