{
 "cells": [
  {
   "cell_type": "markdown",
   "metadata": {},
   "source": [
    "# Init2Py-01 – Conditionals & For loops"
   ]
  },
  {
   "cell_type": "markdown",
   "metadata": {},
   "source": [
    "1. Compute the following expressions for a natural number n chosen by the user:"
   ]
  },
  {
   "cell_type": "code",
   "execution_count": 4,
   "metadata": {},
   "outputs": [
    {
     "name": "stdout",
     "output_type": "stream",
     "text": [
      "entrer un nombre: 3\n",
      "12\n",
      "==================================\n",
      "\t\n",
      "60\n"
     ]
    }
   ],
   "source": [
    "n=int(input('entrer un nombre: '))\n",
    "s=0\n",
    "for i in range(n):\n",
    "    s=s+(i+3)\n",
    "print(s)\n",
    "print('==================================')\n",
    "print('\\t')\n",
    "p=1\n",
    "for i in range(n):\n",
    "    p=p*(i+3)\n",
    "print(p)"
   ]
  },
  {
   "cell_type": "markdown",
   "metadata": {},
   "source": [
    "2. Write a program that reads the number of the day of the week (from 0 to 6). If it is a\n",
    "working day, then the program will write the name of the corresponding day. Otherwise,\n",
    "it will write the word \"Weekend\""
   ]
  },
  {
   "cell_type": "code",
   "execution_count": 9,
   "metadata": {},
   "outputs": [
    {
     "name": "stdout",
     "output_type": "stream",
     "text": [
      "lundi\n",
      "mardi\n",
      "mercredi\n",
      "jeudi\n",
      "vendredi\n",
      "Weekend\n",
      "Weekend\n"
     ]
    }
   ],
   "source": [
    "liste=['lundi','mardi','mercredi','jeudi','vendredi','samedi','dimanche']\n",
    "for i in range(len(liste)):\n",
    "    if i<=4:\n",
    "        print(liste[i])\n",
    "    else:\n",
    "        print(\"Weekend\")"
   ]
  },
  {
   "cell_type": "markdown",
   "metadata": {},
   "source": [
    "3. Make a program that, given a month number (from 0 to 11), indicates how many days it\n",
    "has (28, 30 or 31), ignoring the leap years."
   ]
  },
  {
   "cell_type": "code",
   "execution_count": 12,
   "metadata": {},
   "outputs": [
    {
     "name": "stdout",
     "output_type": "stream",
     "text": [
      "entrer un mot5\n",
      "31\n"
     ]
    }
   ],
   "source": [
    "x=input('entrer un mot')\n",
    "dictionnaire={'0':31,'1':28,'2':30,'3':31,'4':30,'5':31,'6':30,'7':31,'8':30,'9':31,'10':30,'11':31}\n",
    "print(dictionnaire[x])"
   ]
  },
  {
   "cell_type": "markdown",
   "metadata": {},
   "source": [
    "4. Write two versions of python code that displays your name 3 times. One version with a\n",
    "\"for loop\" and another version with a \"while loop\"."
   ]
  },
  {
   "cell_type": "code",
   "execution_count": 13,
   "metadata": {},
   "outputs": [
    {
     "name": "stdout",
     "output_type": "stream",
     "text": [
      "Lionel\n",
      "Lionel\n",
      "Lionel\n"
     ]
    }
   ],
   "source": [
    "for i in range(3):\n",
    "    print('Lionel')"
   ]
  },
  {
   "cell_type": "code",
   "execution_count": 14,
   "metadata": {},
   "outputs": [
    {
     "name": "stdout",
     "output_type": "stream",
     "text": [
      "Lionel\n",
      "Lionel\n",
      "Lionel\n"
     ]
    }
   ],
   "source": [
    "i=1\n",
    "while i<=3:\n",
    "    i=i+1\n",
    "    print(\"Lionel\")"
   ]
  },
  {
   "cell_type": "markdown",
   "metadata": {},
   "source": [
    "5. Given two numbers a0 and a1, the Fibonacci sequence they generate is constructed from\n",
    "the recursion formula an+1 = an + an−1. Calculate the first 15 terms of a Fibonacci\n",
    "sequence, asking the user the initial values."
   ]
  },
  {
   "cell_type": "code",
   "execution_count": 1,
   "metadata": {},
   "outputs": [
    {
     "name": "stdout",
     "output_type": "stream",
     "text": [
      "entrer le nombre 15: 15\n",
      "0\n",
      "1\n",
      "2\n",
      "4\n",
      "8\n"
     ]
    }
   ],
   "source": [
    "n=int(input('entrer le nombre 15: '))\n",
    "a0=0\n",
    "a1=1\n",
    "while a0<n:\n",
    "    print(a0)\n",
    "    a0=a1\n",
    "    a1=a0+a1\n",
    "    \n",
    "    "
   ]
  },
  {
   "cell_type": "markdown",
   "metadata": {},
   "source": [
    "6. Compute the first 30 terms of the sequence defined by 2xn+2 − xn+1 − 6xn = 0 sequence,\n",
    "given any two initial values x0 and x1"
   ]
  },
  {
   "cell_type": "code",
   "execution_count": null,
   "metadata": {},
   "outputs": [],
   "source": [
    "x=int(input('entrer le nombre 30: '))\n",
    "x0=\n"
   ]
  },
  {
   "cell_type": "markdown",
   "metadata": {},
   "source": [
    "7. a) Write python code to determine whether or not a year is a leap year. Be sure you\n",
    "know what a leap year is."
   ]
  },
  {
   "cell_type": "code",
   "execution_count": 4,
   "metadata": {},
   "outputs": [
    {
     "name": "stdout",
     "output_type": "stream",
     "text": [
      "enter the year: 1745\n",
      "year is leap\n"
     ]
    }
   ],
   "source": [
    "year=int(input('enter the year: '))\n",
    "if year%4==0 & year!=100:\n",
    "    print('year is not leap')\n",
    "else:\n",
    "    print('year is leap')"
   ]
  },
  {
   "cell_type": "markdown",
   "metadata": {},
   "source": [
    "b) Write the code using only logical operators, i.e. no conditional branching."
   ]
  },
  {
   "cell_type": "code",
   "execution_count": null,
   "metadata": {},
   "outputs": [],
   "source": [
    "year=int(input('enter one year'))\n"
   ]
  },
  {
   "cell_type": "markdown",
   "metadata": {},
   "source": [
    "8. a) Write python code that computes the sum of the square of the first n natural numbers.\n",
    "One version with a \"for loop\" and another version with a \"while loop\""
   ]
  },
  {
   "cell_type": "code",
   "execution_count": 2,
   "metadata": {},
   "outputs": [
    {
     "name": "stdout",
     "output_type": "stream",
     "text": [
      "285\n"
     ]
    }
   ],
   "source": [
    "s=0\n",
    "for i in range(1,10):\n",
    "    s=s+i*i\n",
    "print(s)"
   ]
  },
  {
   "cell_type": "code",
   "execution_count": 5,
   "metadata": {},
   "outputs": [
    {
     "name": "stdout",
     "output_type": "stream",
     "text": [
      "285\n"
     ]
    }
   ],
   "source": [
    "s=0\n",
    "i=1\n",
    "while i<10:\n",
    "    s=s+i*i\n",
    "    i=i+1\n",
    "print(s)"
   ]
  },
  {
   "cell_type": "markdown",
   "metadata": {},
   "source": [
    "b) Write python code that prints, for a natural number M, the smallest natural number\n",
    "n such that 1**2 +2**2 +· · ·+n**2 ≥ M: One version with a \"for loop\" and another version\n",
    "with a \"while loop\"."
   ]
  },
  {
   "cell_type": "code",
   "execution_count": 7,
   "metadata": {},
   "outputs": [
    {
     "name": "stdout",
     "output_type": "stream",
     "text": [
      "entrer un entier M:  5\n",
      "0 0 5\n",
      "1 1 5\n",
      "5 2 5\n",
      "14 3 5\n",
      "30 4 5\n",
      "le minimum est:  4\n"
     ]
    }
   ],
   "source": [
    "s=0\n",
    "plus_petit=0\n",
    "M=int(input('entrer un entier M:  '))\n",
    "for i in range(M):\n",
    "    s=s+i*i\n",
    "    print(s,i,M)\n",
    "    if s<=M:\n",
    "        plus_petit=i\n",
    "print('le minimum est: ',i)"
   ]
  },
  {
   "cell_type": "code",
   "execution_count": 13,
   "metadata": {},
   "outputs": [
    {
     "name": "stdout",
     "output_type": "stream",
     "text": [
      "entrer un entier M:  5\n",
      "0 0 5\n",
      "1 1 5\n",
      "5 2 5\n",
      "14 3 5\n",
      "30 4 5\n",
      "le minimum est:  5\n"
     ]
    }
   ],
   "source": [
    "s=0\n",
    "plus_petit=0\n",
    "i=0\n",
    "M=int(input('entrer un entier M:  '))\n",
    "while i<M:\n",
    "    s=s+i*i\n",
    "    print(s,i,M)\n",
    "    i=i+1\n",
    "    if s<=M:\n",
    "        plus_petit=i\n",
    "print('le minimum est: ',i)"
   ]
  },
  {
   "cell_type": "markdown",
   "metadata": {},
   "source": [
    "9. a) Write python code that prints all the divisors of a given natural number."
   ]
  },
  {
   "cell_type": "code",
   "execution_count": 14,
   "metadata": {},
   "outputs": [
    {
     "name": "stdout",
     "output_type": "stream",
     "text": [
      "entrer un entier8\n",
      "[1, 2, 4, 8]\n"
     ]
    }
   ],
   "source": [
    "liste=[]\n",
    "n=int(input('entrer un entier'))\n",
    "for i in range(1,n+1):\n",
    "    if n%i==0:\n",
    "        liste.append(i)\n",
    "print(liste)"
   ]
  },
  {
   "cell_type": "markdown",
   "metadata": {},
   "source": [
    "b) Read an integer number input by the user and calculate its prime factors. This will\n",
    "just be some of its divisors."
   ]
  },
  {
   "cell_type": "code",
   "execution_count": 25,
   "metadata": {},
   "outputs": [
    {
     "name": "stdout",
     "output_type": "stream",
     "text": [
      "entrer un entier: 14\n",
      "[1, 2, 7]\n"
     ]
    }
   ],
   "source": [
    "liste=[]\n",
    "n=int(input('entrer un entier: '))\n",
    "for i in range(1,n+1):\n",
    "    if n%i==0:\n",
    "        liste.append(i)\n",
    "        n=n/i\n",
    "print(liste)"
   ]
  },
  {
   "cell_type": "markdown",
   "metadata": {},
   "source": [
    "10. Read an integer number between n 0 and 9 and print its multiplication table up to N\n",
    "where N is another another natural number read by the program."
   ]
  },
  {
   "cell_type": "code",
   "execution_count": 28,
   "metadata": {},
   "outputs": [
    {
     "name": "stdout",
     "output_type": "stream",
     "text": [
      "entrer un nombre3\n",
      "1  x  3  =  3\n",
      "2  x  3  =  6\n",
      "3  x  3  =  9\n",
      "4  x  3  =  12\n",
      "5  x  3  =  15\n",
      "6  x  3  =  18\n",
      "7  x  3  =  21\n",
      "8  x  3  =  24\n",
      "9  x  3  =  27\n",
      "10  x  3  =  30\n",
      "11  x  3  =  33\n",
      "12  x  3  =  36\n"
     ]
    }
   ],
   "source": [
    "n=int(input('entrer un nombre'))\n",
    "p=1\n",
    "for i in range(1,13):\n",
    "    p=n*i\n",
    "    print(i,'x',n,'=',p,sep='  ')"
   ]
  },
  {
   "cell_type": "markdown",
   "metadata": {},
   "source": [
    "11. Write a program that prints all the numbers between 0 and 40 that are multiples of 3, 7\n",
    "or 11."
   ]
  },
  {
   "cell_type": "code",
   "execution_count": 30,
   "metadata": {},
   "outputs": [
    {
     "name": "stdout",
     "output_type": "stream",
     "text": [
      "[0, 3, 6, 7, 9, 11, 12, 14, 15, 18, 21, 22, 24, 27, 28, 30, 33, 35, 36, 39]\n"
     ]
    }
   ],
   "source": [
    "Liste=[]\n",
    "for i in range(40):\n",
    "    if i%3==0 or i%7==0 or i%11==0:\n",
    "        Liste.append(i)\n",
    "print(Liste)"
   ]
  },
  {
   "cell_type": "markdown",
   "metadata": {},
   "source": [
    "12. Write python code that prints the floor of a float x. Recall that the floor of a float x is the\n",
    "largest integer value less than or equal to x, i.e. if E[x] is the floor of x, then it satisfies"
   ]
  },
  {
   "cell_type": "code",
   "execution_count": 36,
   "metadata": {},
   "outputs": [
    {
     "name": "stdout",
     "output_type": "stream",
     "text": [
      "entrer un nombre reel: 2.5\n",
      "2\n"
     ]
    }
   ],
   "source": [
    "from math import *\n",
    "x=float(input('entrer un nombre reel: '))\n",
    "x_1=floor(x-1)\n",
    "x=1+x_1\n",
    "print(x)"
   ]
  },
  {
   "cell_type": "markdown",
   "metadata": {},
   "source": [
    "13. Given a point in the plane by its Cartesian coordinates, determine in which quadrant it is\n",
    "(1st, 2nd, 3rd, 4th), if it lies on an axis, or if it is the origin. Do this for several points in\n",
    "the same execution of the program until the user quits."
   ]
  },
  {
   "cell_type": "code",
   "execution_count": 40,
   "metadata": {},
   "outputs": [
    {
     "name": "stdout",
     "output_type": "stream",
     "text": [
      "entrer l'abscisse: 3\n",
      "entrer l'ordonnée: 2\n"
     ]
    }
   ],
   "source": [
    "user=''\n",
    "x=float(input(\"entrer l'abscisse: \"))\n",
    "y=float(input(\"entrer l'ordonnée: \" ))\n",
    "while user=='entrer':\n",
    "    if (x==0) & (y==0):\n",
    "        print(\"le point est situe a l'origine\")\n",
    "    elif (x>0) & (y==0):\n",
    "        print(\"le point est sur l'axe des abscisses\")\n",
    "    elif (x==0) & (y>0):\n",
    "        print(\"le point est sur l'axe des ordonnees\")\n",
    "    elif (x>0) & (y>0):\n",
    "        print(\"le point est dans le 1st quadrant\")\n",
    "    elif (x>0) & (y<0):\n",
    "        print(\"le point est dans le 4th quadrant\")\n",
    "    elif (x<0) & (y<0):\n",
    "        print(\"le point est dans le 3rd quadrant\")\n",
    "    else:\n",
    "        print(\"le point est dans le 2nd quadrant\")\n",
    "    user=input(\"voulez vous continuez\")\n",
    "        \n",
    "        "
   ]
  },
  {
   "cell_type": "code",
   "execution_count": null,
   "metadata": {},
   "outputs": [],
   "source": []
  }
 ],
 "metadata": {
  "kernelspec": {
   "display_name": "Python 3",
   "language": "python",
   "name": "python3"
  },
  "language_info": {
   "codemirror_mode": {
    "name": "ipython",
    "version": 3
   },
   "file_extension": ".py",
   "mimetype": "text/x-python",
   "name": "python",
   "nbconvert_exporter": "python",
   "pygments_lexer": "ipython3",
   "version": "3.7.6"
  }
 },
 "nbformat": 4,
 "nbformat_minor": 4
}
